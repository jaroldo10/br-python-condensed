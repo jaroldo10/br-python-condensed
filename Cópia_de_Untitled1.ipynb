{
  "nbformat": 4,
  "nbformat_minor": 0,
  "metadata": {
    "colab": {
      "name": "Cópia de Untitled1.ipynb",
      "provenance": [],
      "authorship_tag": "ABX9TyMwaM9F9gB2wNWzIkNbs+8E",
      "include_colab_link": true
    },
    "kernelspec": {
      "name": "python3",
      "display_name": "Python 3"
    }
  },
  "cells": [
    {
      "cell_type": "markdown",
      "metadata": {
        "id": "view-in-github",
        "colab_type": "text"
      },
      "source": [
        "<a href=\"https://colab.research.google.com/github/jaroldo10/br-python-condensed/blob/main/C%C3%B3pia_de_Untitled1.ipynb\" target=\"_parent\"><img src=\"https://colab.research.google.com/assets/colab-badge.svg\" alt=\"Open In Colab\"/></a>"
      ]
    },
    {
      "cell_type": "code",
      "metadata": {
        "colab": {
          "base_uri": "https://localhost:8080/"
        },
        "id": "mTZMgaKtnLYg",
        "outputId": "f1b2e350-28e5-4971-a9a3-0c93a9a99ee4"
      },
      "source": [
        "type (10 >20)"
      ],
      "execution_count": 9,
      "outputs": [
        {
          "output_type": "execute_result",
          "data": {
            "text/plain": [
              "bool"
            ]
          },
          "metadata": {
            "tags": []
          },
          "execution_count": 9
        }
      ]
    },
    {
      "cell_type": "code",
      "metadata": {
        "colab": {
          "base_uri": "https://localhost:8080/"
        },
        "id": "y5MQ1urwnVfn",
        "outputId": "b693cded-d712-4ad5-9e69-a60846c60f14"
      },
      "source": [
        "10<20"
      ],
      "execution_count": 10,
      "outputs": [
        {
          "output_type": "execute_result",
          "data": {
            "text/plain": [
              "True"
            ]
          },
          "metadata": {
            "tags": []
          },
          "execution_count": 10
        }
      ]
    },
    {
      "cell_type": "code",
      "metadata": {
        "colab": {
          "base_uri": "https://localhost:8080/"
        },
        "id": "rrB5FnVKnWi0",
        "outputId": "e73a7a8b-82db-4595-8810-39acee08ca5a"
      },
      "source": [
        "10==\"10\""
      ],
      "execution_count": 11,
      "outputs": [
        {
          "output_type": "execute_result",
          "data": {
            "text/plain": [
              "False"
            ]
          },
          "metadata": {
            "tags": []
          },
          "execution_count": 11
        }
      ]
    },
    {
      "cell_type": "code",
      "metadata": {
        "colab": {
          "base_uri": "https://localhost:8080/"
        },
        "id": "Y6xmjLw1nYmU",
        "outputId": "b2d06644-f44d-418c-af3a-0a28e60bb79d"
      },
      "source": [
        "10 != '20'"
      ],
      "execution_count": 12,
      "outputs": [
        {
          "output_type": "execute_result",
          "data": {
            "text/plain": [
              "True"
            ]
          },
          "metadata": {
            "tags": []
          },
          "execution_count": 12
        }
      ]
    },
    {
      "cell_type": "code",
      "metadata": {
        "id": "NsWu5YCdna4N"
      },
      "source": [
        "x=10 \r\n",
        "y=20"
      ],
      "execution_count": 13,
      "outputs": []
    },
    {
      "cell_type": "code",
      "metadata": {
        "colab": {
          "base_uri": "https://localhost:8080/"
        },
        "id": "hlX_HywZndpI",
        "outputId": "e72f97d2-7f36-4e30-961b-8c83ad83f234"
      },
      "source": [
        "if x==y:\r\n",
        "  print('x é igual a y')\r\n",
        "elif x > y:\r\n",
        "  print (\"x é maior que y\")\r\n",
        "elif x > y:\r\n",
        "  print (\"x é menor que y\")\r\n",
        "else:\r\n",
        "  print('x não é igual a y')"
      ],
      "execution_count": 14,
      "outputs": [
        {
          "output_type": "stream",
          "text": [
            "x não é igual a y\n"
          ],
          "name": "stdout"
        }
      ]
    },
    {
      "cell_type": "code",
      "metadata": {
        "colab": {
          "base_uri": "https://localhost:8080/",
          "height": 129
        },
        "id": "9A5hPPp4nhL6",
        "outputId": "4e2c7b91-2e2a-41a1-bda0-8476a9e7eddf"
      },
      "source": [
        "def igual_diferente(um,dois):\r\n",
        "if um == dois: \r\n",
        "  print(\"a = b\")\r\n",
        "else:\r\n",
        "  print(\"a != b\")"
      ],
      "execution_count": 15,
      "outputs": [
        {
          "output_type": "error",
          "ename": "IndentationError",
          "evalue": "ignored",
          "traceback": [
            "\u001b[0;36m  File \u001b[0;32m\"<ipython-input-15-b92a8bb2fcac>\"\u001b[0;36m, line \u001b[0;32m2\u001b[0m\n\u001b[0;31m    if um == dois:\u001b[0m\n\u001b[0m     ^\u001b[0m\n\u001b[0;31mIndentationError\u001b[0m\u001b[0;31m:\u001b[0m expected an indented block\n"
          ]
        }
      ]
    },
    {
      "cell_type": "code",
      "metadata": {
        "colab": {
          "base_uri": "https://localhost:8080/",
          "height": 163
        },
        "id": "yGtt4O80nqh_",
        "outputId": "946e4bd4-83ad-4a6c-f61f-6dccd56b9026"
      },
      "source": [
        "igual_diferente(10,'10')"
      ],
      "execution_count": 16,
      "outputs": [
        {
          "output_type": "error",
          "ename": "NameError",
          "evalue": "ignored",
          "traceback": [
            "\u001b[0;31m---------------------------------------------------------------------------\u001b[0m",
            "\u001b[0;31mNameError\u001b[0m                                 Traceback (most recent call last)",
            "\u001b[0;32m<ipython-input-16-e25121873cf6>\u001b[0m in \u001b[0;36m<module>\u001b[0;34m()\u001b[0m\n\u001b[0;32m----> 1\u001b[0;31m \u001b[0migual_diferente\u001b[0m\u001b[0;34m(\u001b[0m\u001b[0;36m10\u001b[0m\u001b[0;34m,\u001b[0m\u001b[0;34m'10'\u001b[0m\u001b[0;34m)\u001b[0m\u001b[0;34m\u001b[0m\u001b[0;34m\u001b[0m\u001b[0m\n\u001b[0m",
            "\u001b[0;31mNameError\u001b[0m: name 'igual_diferente' is not defined"
          ]
        }
      ]
    },
    {
      "cell_type": "code",
      "metadata": {
        "colab": {
          "base_uri": "https://localhost:8080/",
          "height": 163
        },
        "id": "2cdfOJ5uo-AK",
        "outputId": "5bdbcdba-6c1a-4917-ef19-6cca8c6c0c7f"
      },
      "source": [
        "a != b"
      ],
      "execution_count": 17,
      "outputs": [
        {
          "output_type": "error",
          "ename": "NameError",
          "evalue": "ignored",
          "traceback": [
            "\u001b[0;31m---------------------------------------------------------------------------\u001b[0m",
            "\u001b[0;31mNameError\u001b[0m                                 Traceback (most recent call last)",
            "\u001b[0;32m<ipython-input-17-eff5a1493f76>\u001b[0m in \u001b[0;36m<module>\u001b[0;34m()\u001b[0m\n\u001b[0;32m----> 1\u001b[0;31m \u001b[0ma\u001b[0m \u001b[0;34m!=\u001b[0m \u001b[0mb\u001b[0m\u001b[0;34m\u001b[0m\u001b[0;34m\u001b[0m\u001b[0m\n\u001b[0m",
            "\u001b[0;31mNameError\u001b[0m: name 'a' is not defined"
          ]
        }
      ]
    },
    {
      "cell_type": "code",
      "metadata": {
        "colab": {
          "base_uri": "https://localhost:8080/"
        },
        "id": "PpXI9iiKpEL_",
        "outputId": "7d911b6c-e964-42b6-e1a5-55009cd485d1"
      },
      "source": [
        "if (10<5) and (type(10)==int):\r\n",
        "  print(\"verdade\")\r\n",
        "else:\r\n",
        "  print(\"mentira\")\r\n"
      ],
      "execution_count": 18,
      "outputs": [
        {
          "output_type": "stream",
          "text": [
            "mentira\n"
          ],
          "name": "stdout"
        }
      ]
    },
    {
      "cell_type": "code",
      "metadata": {
        "colab": {
          "base_uri": "https://localhost:8080/"
        },
        "id": "ax72XCEsqGUj",
        "outputId": "5a161b90-d2eb-485f-d4ff-c418624e4052"
      },
      "source": [
        "if (10<15) and (type(10)==int):\r\n",
        "  print(\"verdade\")\r\n",
        "else:\r\n",
        "  print(\"mentira\")"
      ],
      "execution_count": 19,
      "outputs": [
        {
          "output_type": "stream",
          "text": [
            "verdade\n"
          ],
          "name": "stdout"
        }
      ]
    },
    {
      "cell_type": "code",
      "metadata": {
        "colab": {
          "base_uri": "https://localhost:8080/"
        },
        "id": "6ZOpRQ5Gp5uF",
        "outputId": "2f267051-eb26-49f1-8d38-f48acc88d33f"
      },
      "source": [
        "if (10>20) or (type(10)==int):\r\n",
        "  print(\"verdade\")\r\n",
        "else:\r\n",
        "  print(\"mentira\")"
      ],
      "execution_count": 20,
      "outputs": [
        {
          "output_type": "stream",
          "text": [
            "verdade\n"
          ],
          "name": "stdout"
        }
      ]
    },
    {
      "cell_type": "code",
      "metadata": {
        "id": "ZXermOiK1jlN"
      },
      "source": [
        "def calcula_imc():\r\n",
        "  nome = input('Qual o seu nome?')\r\n",
        "  peso =  input('Qual o seu peso em quilos (utilize ponto, ex: 52.4)')\r\n",
        "  altura = input('Qual a sua altura em metros (utilize ponto, ex: 1.74)')\r\n",
        "  imc = float(peso)/float(altura)**2\r\n",
        "  imc_arredondado = round(imc,2)\r\n",
        "  if imc_arredondado > 25:\r\n",
        "    print(f'Olá {nome}, seu IMC é de {imc_arredondado}. Prepara-se para novos treinos.')\r\n",
        "  else:\r\n",
        "    print(f'Olá {nome}, seu IMC é de {imc_arredondado}. Parabéns')\r\n"
      ],
      "execution_count": 21,
      "outputs": []
    },
    {
      "cell_type": "code",
      "metadata": {
        "colab": {
          "base_uri": "https://localhost:8080/"
        },
        "id": "SbeUDO0r47V7",
        "outputId": "0253d6ef-5268-46b7-b001-ccf056109b0b"
      },
      "source": [
        "calcula_imc()"
      ],
      "execution_count": 22,
      "outputs": [
        {
          "output_type": "stream",
          "text": [
            "Qual o seu nome?Aroldo\n",
            "Qual o seu peso em quilos (utilize ponto, ex: 52.4)96\n",
            "Qual a sua altura em metros (utilize ponto, ex: 1.74)1.74\n",
            "Olá Aroldo, seu IMC é de 31.71. Prepara-se para novos treinos.\n"
          ],
          "name": "stdout"
        }
      ]
    },
    {
      "cell_type": "code",
      "metadata": {
        "id": "Gx3I-BJT5R_d"
      },
      "source": [
        "minha_lista = [1, 2, 3, 5, 8, 13, 21, 34, 55, 89,\"Fibonacci\"]"
      ],
      "execution_count": 23,
      "outputs": []
    },
    {
      "cell_type": "code",
      "metadata": {
        "colab": {
          "base_uri": "https://localhost:8080/"
        },
        "id": "VYDxw1bq7tVe",
        "outputId": "3695fb4f-4745-4ad7-fa4b-1429242287f8"
      },
      "source": [
        "type(minha_lista)"
      ],
      "execution_count": 25,
      "outputs": [
        {
          "output_type": "execute_result",
          "data": {
            "text/plain": [
              "list"
            ]
          },
          "metadata": {
            "tags": []
          },
          "execution_count": 25
        }
      ]
    },
    {
      "cell_type": "code",
      "metadata": {
        "colab": {
          "base_uri": "https://localhost:8080/"
        },
        "id": "lk1RwKJo7x3v",
        "outputId": "fb0f3409-084f-4ae2-f65d-9b116d15949c"
      },
      "source": [
        "minha_lista"
      ],
      "execution_count": 26,
      "outputs": [
        {
          "output_type": "execute_result",
          "data": {
            "text/plain": [
              "[1, 2, 3, 5, 8, 13, 21, 34, 55, 89, 'Fibonacci']"
            ]
          },
          "metadata": {
            "tags": []
          },
          "execution_count": 26
        }
      ]
    },
    {
      "cell_type": "code",
      "metadata": {
        "colab": {
          "base_uri": "https://localhost:8080/"
        },
        "id": "dWsBVMK776aG",
        "outputId": "1abf93c5-e7d1-4acc-cf13-b661a7f86790"
      },
      "source": [
        "minha_lista[4]"
      ],
      "execution_count": 27,
      "outputs": [
        {
          "output_type": "execute_result",
          "data": {
            "text/plain": [
              "8"
            ]
          },
          "metadata": {
            "tags": []
          },
          "execution_count": 27
        }
      ]
    },
    {
      "cell_type": "code",
      "metadata": {
        "colab": {
          "base_uri": "https://localhost:8080/"
        },
        "id": "Cjozzl_98UJ7",
        "outputId": "35e051e3-5a0c-46ea-a96c-b02416cd63cd"
      },
      "source": [
        "len (minha_lista)"
      ],
      "execution_count": 28,
      "outputs": [
        {
          "output_type": "execute_result",
          "data": {
            "text/plain": [
              "11"
            ]
          },
          "metadata": {
            "tags": []
          },
          "execution_count": 28
        }
      ]
    },
    {
      "cell_type": "code",
      "metadata": {
        "colab": {
          "base_uri": "https://localhost:8080/",
          "height": 35
        },
        "id": "ly0MFoHp8eEa",
        "outputId": "a3ea5148-9837-4d00-e7d2-923d97a4c9e4"
      },
      "source": [
        "minha_lista[10]"
      ],
      "execution_count": 29,
      "outputs": [
        {
          "output_type": "execute_result",
          "data": {
            "application/vnd.google.colaboratory.intrinsic+json": {
              "type": "string"
            },
            "text/plain": [
              "'Fibonacci'"
            ]
          },
          "metadata": {
            "tags": []
          },
          "execution_count": 29
        }
      ]
    },
    {
      "cell_type": "code",
      "metadata": {
        "colab": {
          "base_uri": "https://localhost:8080/"
        },
        "id": "PZwX1l0P8mAh",
        "outputId": "00c1e2bc-7a76-40fa-8a98-ab76c4cf9722"
      },
      "source": [
        "minha_lista[-3]"
      ],
      "execution_count": 30,
      "outputs": [
        {
          "output_type": "execute_result",
          "data": {
            "text/plain": [
              "55"
            ]
          },
          "metadata": {
            "tags": []
          },
          "execution_count": 30
        }
      ]
    },
    {
      "cell_type": "code",
      "metadata": {
        "colab": {
          "base_uri": "https://localhost:8080/"
        },
        "id": "MkMuIEeg87kn",
        "outputId": "21f8fc63-cf21-4a24-a3f2-33f85a18a6d3"
      },
      "source": [
        "minha_lista[-9]"
      ],
      "execution_count": 31,
      "outputs": [
        {
          "output_type": "execute_result",
          "data": {
            "text/plain": [
              "3"
            ]
          },
          "metadata": {
            "tags": []
          },
          "execution_count": 31
        }
      ]
    },
    {
      "cell_type": "code",
      "metadata": {
        "id": "O_iIywm69Ci6"
      },
      "source": [
        "minha_lista[5]=\"cinco\""
      ],
      "execution_count": 32,
      "outputs": []
    },
    {
      "cell_type": "code",
      "metadata": {
        "id": "b8cbGaCe9YxW"
      },
      "source": [
        "minha_lista.append(\"bike\")"
      ],
      "execution_count": 33,
      "outputs": []
    },
    {
      "cell_type": "code",
      "metadata": {
        "colab": {
          "base_uri": "https://localhost:8080/"
        },
        "id": "x9fMENQJ_D0Q",
        "outputId": "22f651f7-ee1e-4e9d-9c57-6f5fb8270397"
      },
      "source": [
        "minha_lista"
      ],
      "execution_count": 34,
      "outputs": [
        {
          "output_type": "execute_result",
          "data": {
            "text/plain": [
              "[1, 2, 3, 5, 8, 'cinco', 21, 34, 55, 89, 'Fibonacci', 'bike']"
            ]
          },
          "metadata": {
            "tags": []
          },
          "execution_count": 34
        }
      ]
    },
    {
      "cell_type": "code",
      "metadata": {
        "id": "tLN6vHcT_FGB"
      },
      "source": [
        "minha_lista.append(\"run\")"
      ],
      "execution_count": 35,
      "outputs": []
    },
    {
      "cell_type": "code",
      "metadata": {
        "colab": {
          "base_uri": "https://localhost:8080/"
        },
        "id": "xbBMAgS7_L9w",
        "outputId": "cfa6d83d-8b4d-4765-aee4-cd43354a06fe"
      },
      "source": [
        "minha_lista"
      ],
      "execution_count": 36,
      "outputs": [
        {
          "output_type": "execute_result",
          "data": {
            "text/plain": [
              "[1, 2, 3, 5, 8, 'cinco', 21, 34, 55, 89, 'Fibonacci', 'bike', 'run']"
            ]
          },
          "metadata": {
            "tags": []
          },
          "execution_count": 36
        }
      ]
    },
    {
      "cell_type": "code",
      "metadata": {
        "id": "-QJTWxlU_NJ1"
      },
      "source": [
        "minha_lista.append([\"meta\",10])"
      ],
      "execution_count": 37,
      "outputs": []
    },
    {
      "cell_type": "code",
      "metadata": {
        "colab": {
          "base_uri": "https://localhost:8080/"
        },
        "id": "V8VVicbB_ZLP",
        "outputId": "2600c04b-6cb8-4e9d-c390-9378ade3b395"
      },
      "source": [
        "minha_lista"
      ],
      "execution_count": 38,
      "outputs": [
        {
          "output_type": "execute_result",
          "data": {
            "text/plain": [
              "[1,\n",
              " 2,\n",
              " 3,\n",
              " 5,\n",
              " 8,\n",
              " 'cinco',\n",
              " 21,\n",
              " 34,\n",
              " 55,\n",
              " 89,\n",
              " 'Fibonacci',\n",
              " 'bike',\n",
              " 'run',\n",
              " ['meta', 10]]"
            ]
          },
          "metadata": {
            "tags": []
          },
          "execution_count": 38
        }
      ]
    },
    {
      "cell_type": "code",
      "metadata": {
        "colab": {
          "base_uri": "https://localhost:8080/"
        },
        "id": "XF6IZIFJ_acK",
        "outputId": "b73ecbe5-cb51-4ba4-8271-59220e2938d3"
      },
      "source": [
        "type(minha_lista[-1])"
      ],
      "execution_count": 39,
      "outputs": [
        {
          "output_type": "execute_result",
          "data": {
            "text/plain": [
              "list"
            ]
          },
          "metadata": {
            "tags": []
          },
          "execution_count": 39
        }
      ]
    },
    {
      "cell_type": "code",
      "metadata": {
        "colab": {
          "base_uri": "https://localhost:8080/",
          "height": 35
        },
        "id": "UyhAJzbU_rZw",
        "outputId": "cc163244-8ba7-4274-b986-3f63ae95e828"
      },
      "source": [
        "minha_lista[-1][0]"
      ],
      "execution_count": 40,
      "outputs": [
        {
          "output_type": "execute_result",
          "data": {
            "application/vnd.google.colaboratory.intrinsic+json": {
              "type": "string"
            },
            "text/plain": [
              "'meta'"
            ]
          },
          "metadata": {
            "tags": []
          },
          "execution_count": 40
        }
      ]
    },
    {
      "cell_type": "code",
      "metadata": {
        "id": "eJF5IDGl_0Rm"
      },
      "source": [
        "minha_lista[1]=\"casa\"\r\n",
        "minha_lista.append(45.9)"
      ],
      "execution_count": 41,
      "outputs": []
    },
    {
      "cell_type": "code",
      "metadata": {
        "colab": {
          "base_uri": "https://localhost:8080/"
        },
        "id": "gWBRTwSxAsb8",
        "outputId": "8da8cd6a-f30d-4765-db6a-0804aa0e57c8"
      },
      "source": [
        "minha_lista"
      ],
      "execution_count": 42,
      "outputs": [
        {
          "output_type": "execute_result",
          "data": {
            "text/plain": [
              "[1,\n",
              " 'casa',\n",
              " 3,\n",
              " 5,\n",
              " 8,\n",
              " 'cinco',\n",
              " 21,\n",
              " 34,\n",
              " 55,\n",
              " 89,\n",
              " 'Fibonacci',\n",
              " 'bike',\n",
              " 'run',\n",
              " ['meta', 10],\n",
              " 45.9]"
            ]
          },
          "metadata": {
            "tags": []
          },
          "execution_count": 42
        }
      ]
    },
    {
      "cell_type": "code",
      "metadata": {
        "colab": {
          "base_uri": "https://localhost:8080/"
        },
        "id": "nFFslWFPAw0q",
        "outputId": "f039ad3a-064b-4430-aa99-e4846fd0fcb8"
      },
      "source": [
        "for item in minha_lista: \r\n",
        "  print(item,item)"
      ],
      "execution_count": 43,
      "outputs": [
        {
          "output_type": "stream",
          "text": [
            "1 1\n",
            "casa casa\n",
            "3 3\n",
            "5 5\n",
            "8 8\n",
            "cinco cinco\n",
            "21 21\n",
            "34 34\n",
            "55 55\n",
            "89 89\n",
            "Fibonacci Fibonacci\n",
            "bike bike\n",
            "run run\n",
            "['meta', 10] ['meta', 10]\n",
            "45.9 45.9\n"
          ],
          "name": "stdout"
        }
      ]
    },
    {
      "cell_type": "code",
      "metadata": {
        "colab": {
          "base_uri": "https://localhost:8080/"
        },
        "id": "Mce_f7N1e2Li",
        "outputId": "4aee640e-4b2b-40a7-8718-c4e26907d9b7"
      },
      "source": [
        "for i in minha_lista:\r\n",
        "  print (f'{i} esta na lista')"
      ],
      "execution_count": 44,
      "outputs": [
        {
          "output_type": "stream",
          "text": [
            "1 esta na lista\n",
            "casa esta na lista\n",
            "3 esta na lista\n",
            "5 esta na lista\n",
            "8 esta na lista\n",
            "cinco esta na lista\n",
            "21 esta na lista\n",
            "34 esta na lista\n",
            "55 esta na lista\n",
            "89 esta na lista\n",
            "Fibonacci esta na lista\n",
            "bike esta na lista\n",
            "run esta na lista\n",
            "['meta', 10] esta na lista\n",
            "45.9 esta na lista\n"
          ],
          "name": "stdout"
        }
      ]
    },
    {
      "cell_type": "code",
      "metadata": {
        "id": "3eqyQ0LWgDs_"
      },
      "source": [
        "academia = [['Ulrich', 'M', 80, 1.92],['Claudia','F',62,1.56],\r\n",
        "               ['Mikkel','M',67,1.56],['Jonas','M',52,1.56],\r\n",
        "               ['Charlotte','F',52,1.56],['Martha','F',76,1.98]]"
      ],
      "execution_count": 45,
      "outputs": []
    },
    {
      "cell_type": "code",
      "metadata": {
        "colab": {
          "base_uri": "https://localhost:8080/"
        },
        "id": "e0w3g2YzhGCW",
        "outputId": "fd05a675-4f10-47b6-bd92-7eeb02611523"
      },
      "source": [
        "academia[2][2]"
      ],
      "execution_count": 46,
      "outputs": [
        {
          "output_type": "execute_result",
          "data": {
            "text/plain": [
              "67"
            ]
          },
          "metadata": {
            "tags": []
          },
          "execution_count": 46
        }
      ]
    },
    {
      "cell_type": "code",
      "metadata": {
        "colab": {
          "base_uri": "https://localhost:8080/"
        },
        "id": "58iQ8nK7hYXS",
        "outputId": "f6bffc2d-05d1-444b-9624-b032d55a6617"
      },
      "source": [
        "for k in academia:\r\n",
        "  print(k[0],\":\",k[-1])\r\n",
        "  print('='*80)"
      ],
      "execution_count": 51,
      "outputs": [
        {
          "output_type": "stream",
          "text": [
            "Ulrich : 1.92\n",
            "================================================================================\n",
            "Claudia : 1.56\n",
            "================================================================================\n",
            "Mikkel : 1.56\n",
            "================================================================================\n",
            "Jonas : 1.56\n",
            "================================================================================\n",
            "Charlotte : 1.56\n",
            "================================================================================\n",
            "Martha : 1.98\n",
            "================================================================================\n"
          ],
          "name": "stdout"
        }
      ]
    },
    {
      "cell_type": "code",
      "metadata": {
        "id": "nVog9Bm-hsqK"
      },
      "source": [
        "for lista_1 in academia:\r\n",
        "  imc = round (lista_1[2]/lista_1[3]**2,2)\r\n",
        "  lista_1.append(imc) "
      ],
      "execution_count": 52,
      "outputs": []
    },
    {
      "cell_type": "code",
      "metadata": {
        "colab": {
          "base_uri": "https://localhost:8080/"
        },
        "id": "Ju-aZrsFjpmB",
        "outputId": "3f4b18ff-5753-4fcb-d5fa-cbb2431f0523"
      },
      "source": [
        "academia"
      ],
      "execution_count": 53,
      "outputs": [
        {
          "output_type": "execute_result",
          "data": {
            "text/plain": [
              "[['Ulrich', 'M', 80, 1.92, 21.7],\n",
              " ['Claudia', 'F', 62, 1.56, 25.48],\n",
              " ['Mikkel', 'M', 67, 1.56, 27.53],\n",
              " ['Jonas', 'M', 52, 1.56, 21.37],\n",
              " ['Charlotte', 'F', 52, 1.56, 21.37],\n",
              " ['Martha', 'F', 76, 1.98, 19.39]]"
            ]
          },
          "metadata": {
            "tags": []
          },
          "execution_count": 53
        }
      ]
    },
    {
      "cell_type": "code",
      "metadata": {
        "id": "hyVP87G5jrQS"
      },
      "source": [
        "dicionario = {\"peso\":80,\"altura\":1.92}"
      ],
      "execution_count": 56,
      "outputs": []
    },
    {
      "cell_type": "code",
      "metadata": {
        "colab": {
          "base_uri": "https://localhost:8080/"
        },
        "id": "-IONYS4Rkbvc",
        "outputId": "e8654fb7-dd70-4144-e57d-5f28d0433f33"
      },
      "source": [
        "dicionario[\"altura\"]"
      ],
      "execution_count": 59,
      "outputs": [
        {
          "output_type": "execute_result",
          "data": {
            "text/plain": [
              "1.92"
            ]
          },
          "metadata": {
            "tags": []
          },
          "execution_count": 59
        }
      ]
    },
    {
      "cell_type": "code",
      "metadata": {
        "id": "jhaD2f2akm5W"
      },
      "source": [
        "dicionario= {'Aroldo':{\"Peso\":88,\"altura\":1.88},\"Ulrich\":{\"altura\":2.00,\"peso\":90}}"
      ],
      "execution_count": 60,
      "outputs": []
    },
    {
      "cell_type": "code",
      "metadata": {
        "colab": {
          "base_uri": "https://localhost:8080/"
        },
        "id": "ZbEnuNRllS_Z",
        "outputId": "4c9b254b-6cee-4d1f-89ed-2adadeb70ab9"
      },
      "source": [
        "dicionario['Ulrich']['altura']"
      ],
      "execution_count": 62,
      "outputs": [
        {
          "output_type": "execute_result",
          "data": {
            "text/plain": [
              "2.0"
            ]
          },
          "metadata": {
            "tags": []
          },
          "execution_count": 62
        }
      ]
    },
    {
      "cell_type": "code",
      "metadata": {
        "id": "p6NkyIf3lceL"
      },
      "source": [
        "dicionario['Aroldo']['email']='aroldo@gmail.com'"
      ],
      "execution_count": 63,
      "outputs": []
    },
    {
      "cell_type": "code",
      "metadata": {
        "colab": {
          "base_uri": "https://localhost:8080/"
        },
        "id": "WEQ9CIJalxZh",
        "outputId": "576bb606-d6ed-4579-9166-33454e93c59a"
      },
      "source": [
        "dicionario"
      ],
      "execution_count": 64,
      "outputs": [
        {
          "output_type": "execute_result",
          "data": {
            "text/plain": [
              "{'Aroldo': {'Peso': 88, 'altura': 1.88, 'email': 'aroldo@gmail.com'},\n",
              " 'Ulrich': {'altura': 2.0, 'peso': 90}}"
            ]
          },
          "metadata": {
            "tags": []
          },
          "execution_count": 64
        }
      ]
    },
    {
      "cell_type": "code",
      "metadata": {
        "id": "324gBHRwlzgE"
      },
      "source": [
        "dicionario= {'Bia':{\"Peso\":68,\"altura\":1.68},\"Luna\":{\"altura\":4.00,\"peso\":96}}"
      ],
      "execution_count": 66,
      "outputs": []
    },
    {
      "cell_type": "code",
      "metadata": {
        "colab": {
          "base_uri": "https://localhost:8080/"
        },
        "id": "gfOdEXenmJfA",
        "outputId": "21ef3d7f-225e-4f46-b85b-e302b20bc1b0"
      },
      "source": [
        "dicionario\r\n"
      ],
      "execution_count": 67,
      "outputs": [
        {
          "output_type": "execute_result",
          "data": {
            "text/plain": [
              "{'Bia': {'Peso': 68, 'altura': 1.68}, 'Luna': {'altura': 4.0, 'peso': 96}}"
            ]
          },
          "metadata": {
            "tags": []
          },
          "execution_count": 67
        }
      ]
    },
    {
      "cell_type": "code",
      "metadata": {
        "id": "yxPgZx5amPDH"
      },
      "source": [
        "dicionario['Bia']['email']='bia@yahoo.com'"
      ],
      "execution_count": 78,
      "outputs": []
    },
    {
      "cell_type": "code",
      "metadata": {
        "colab": {
          "base_uri": "https://localhost:8080/"
        },
        "id": "uMwJUUlFmXYE",
        "outputId": "078a90f6-bccd-4ee5-b187-805e302df824"
      },
      "source": [
        "dicionario"
      ],
      "execution_count": 79,
      "outputs": [
        {
          "output_type": "execute_result",
          "data": {
            "text/plain": [
              "{'Aroldo': {'altura': 1.57, 'peso': 54},\n",
              " 'Bia': {'Peso': 68, 'altura': 1.68, 'email': 'bia@yahoo.com'},\n",
              " 'Luna': {'altura': 4.0, 'peso': 96}}"
            ]
          },
          "metadata": {
            "tags": []
          },
          "execution_count": 79
        }
      ]
    },
    {
      "cell_type": "code",
      "metadata": {
        "id": "aartewzsmYjx"
      },
      "source": [
        "dicionario['Aroldo']={\"altura\":1.57,\"peso\":54}"
      ],
      "execution_count": 70,
      "outputs": []
    },
    {
      "cell_type": "code",
      "metadata": {
        "colab": {
          "base_uri": "https://localhost:8080/"
        },
        "id": "kXC4ELGrmtx-",
        "outputId": "96d89a44-48b8-4298-d5ae-c5667f3bdea1"
      },
      "source": [
        "dicionario"
      ],
      "execution_count": 80,
      "outputs": [
        {
          "output_type": "execute_result",
          "data": {
            "text/plain": [
              "{'Aroldo': {'altura': 1.57, 'peso': 54},\n",
              " 'Bia': {'Peso': 68, 'altura': 1.68, 'email': 'bia@yahoo.com'},\n",
              " 'Luna': {'altura': 4.0, 'peso': 96}}"
            ]
          },
          "metadata": {
            "tags": []
          },
          "execution_count": 80
        }
      ]
    },
    {
      "cell_type": "code",
      "metadata": {
        "colab": {
          "base_uri": "https://localhost:8080/"
        },
        "id": "hMjlZ7-cmu_e",
        "outputId": "ed7ed61e-53d4-4d75-c158-4807e23c2b37"
      },
      "source": [
        "academia"
      ],
      "execution_count": 72,
      "outputs": [
        {
          "output_type": "execute_result",
          "data": {
            "text/plain": [
              "[['Ulrich', 'M', 80, 1.92, 21.7],\n",
              " ['Claudia', 'F', 62, 1.56, 25.48],\n",
              " ['Mikkel', 'M', 67, 1.56, 27.53],\n",
              " ['Jonas', 'M', 52, 1.56, 21.37],\n",
              " ['Charlotte', 'F', 52, 1.56, 21.37],\n",
              " ['Martha', 'F', 76, 1.98, 19.39]]"
            ]
          },
          "metadata": {
            "tags": []
          },
          "execution_count": 72
        }
      ]
    },
    {
      "cell_type": "code",
      "metadata": {
        "id": "r04fgPxEm0gV"
      },
      "source": [
        "academia_dict = {}\r\n",
        "for aluno in academia: \r\n",
        "  academia_dict[aluno[0]]={}\r\n",
        "  academia_dict[aluno[0]]['sexo']=aluno[1]\r\n",
        "  academia_dict[aluno[0]]['peso']=aluno[2]\r\n",
        "  academia_dict[aluno[0]]['altura']=aluno[3]\r\n",
        "  academia_dict[aluno[0]]['IMC']=aluno[4]"
      ],
      "execution_count": 76,
      "outputs": []
    },
    {
      "cell_type": "code",
      "metadata": {
        "colab": {
          "base_uri": "https://localhost:8080/"
        },
        "id": "4A_Z1QA0sLwg",
        "outputId": "78189493-08b9-47a5-95c9-1a640cd0acdc"
      },
      "source": [
        "academia_dict"
      ],
      "execution_count": 77,
      "outputs": [
        {
          "output_type": "execute_result",
          "data": {
            "text/plain": [
              "{'Charlotte': {'IMC': 21.37, 'altura': 1.56, 'peso': 52, 'sexo': 'F'},\n",
              " 'Claudia': {'IMC': 25.48, 'altura': 1.56, 'peso': 62, 'sexo': 'F'},\n",
              " 'Jonas': {'IMC': 21.37, 'altura': 1.56, 'peso': 52, 'sexo': 'M'},\n",
              " 'Martha': {'IMC': 19.39, 'altura': 1.98, 'peso': 76, 'sexo': 'F'},\n",
              " 'Mikkel': {'IMC': 27.53, 'altura': 1.56, 'peso': 67, 'sexo': 'M'},\n",
              " 'Ulrich': {'IMC': 21.7, 'altura': 1.92, 'peso': 80, 'sexo': 'M'}}"
            ]
          },
          "metadata": {
            "tags": []
          },
          "execution_count": 77
        }
      ]
    },
    {
      "cell_type": "code",
      "metadata": {
        "colab": {
          "base_uri": "https://localhost:8080/"
        },
        "id": "422_ny91sNhW",
        "outputId": "3d621bdd-4f4a-46c6-e219-6f2c82f61a79"
      },
      "source": [
        "academia_dict['Charlotte']['peso']"
      ],
      "execution_count": 84,
      "outputs": [
        {
          "output_type": "execute_result",
          "data": {
            "text/plain": [
              "52"
            ]
          },
          "metadata": {
            "tags": []
          },
          "execution_count": 84
        }
      ]
    },
    {
      "cell_type": "code",
      "metadata": {
        "colab": {
          "base_uri": "https://localhost:8080/"
        },
        "id": "lHNdqnpatiIG",
        "outputId": "71d2dec5-e2bd-42d5-8dd2-0e27ef60304c"
      },
      "source": [
        "academia_dict['Mikkel']['peso']"
      ],
      "execution_count": 85,
      "outputs": [
        {
          "output_type": "execute_result",
          "data": {
            "text/plain": [
              "67"
            ]
          },
          "metadata": {
            "tags": []
          },
          "execution_count": 85
        }
      ]
    },
    {
      "cell_type": "code",
      "metadata": {
        "colab": {
          "base_uri": "https://localhost:8080/"
        },
        "id": "UlJCgqXNt0xv",
        "outputId": "3b22c7b7-6204-4700-eca3-d04f7bf6850e"
      },
      "source": [
        "academia_dict['Ulrich']['peso']"
      ],
      "execution_count": 86,
      "outputs": [
        {
          "output_type": "execute_result",
          "data": {
            "text/plain": [
              "80"
            ]
          },
          "metadata": {
            "tags": []
          },
          "execution_count": 86
        }
      ]
    },
    {
      "cell_type": "code",
      "metadata": {
        "colab": {
          "base_uri": "https://localhost:8080/"
        },
        "id": "vEc4Po8ut5A5",
        "outputId": "4ca584e1-ea76-4066-e691-b6014e8f4727"
      },
      "source": [
        "academia_dict['Claudia']['peso']"
      ],
      "execution_count": 87,
      "outputs": [
        {
          "output_type": "execute_result",
          "data": {
            "text/plain": [
              "62"
            ]
          },
          "metadata": {
            "tags": []
          },
          "execution_count": 87
        }
      ]
    },
    {
      "cell_type": "code",
      "metadata": {
        "id": "IyLt4ruyt8tL"
      },
      "source": [
        ""
      ],
      "execution_count": null,
      "outputs": []
    }
  ]
}